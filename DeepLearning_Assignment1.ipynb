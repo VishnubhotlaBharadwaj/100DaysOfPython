{
  "nbformat": 4,
  "nbformat_minor": 0,
  "metadata": {
    "colab": {
      "provenance": [],
      "include_colab_link": true
    },
    "kernelspec": {
      "name": "python3",
      "display_name": "Python 3"
    },
    "language_info": {
      "name": "python"
    }
  },
  "cells": [
    {
      "cell_type": "markdown",
      "metadata": {
        "id": "view-in-github",
        "colab_type": "text"
      },
      "source": [
        "<a href=\"https://colab.research.google.com/github/VishnubhotlaBharadwaj/100daysofPython/blob/main/DeepLearning_Assignment1.ipynb\" target=\"_parent\"><img src=\"https://colab.research.google.com/assets/colab-badge.svg\" alt=\"Open In Colab\"/></a>"
      ]
    },
    {
      "cell_type": "code",
      "execution_count": null,
      "metadata": {
        "id": "2pMtuhmfwhWQ"
      },
      "outputs": [],
      "source": [
        "import torch\n",
        "import torch.nn as nn\n",
        "import torchvision.datasets as dsets\n",
        "import torchvision.transforms as transforms\n",
        "from torch.autograd import Variable"
      ]
    },
    {
      "cell_type": "code",
      "source": [
        "# Hyperparameters\n",
        "input_size = 784\n",
        "hidden_size1 = 256\n",
        "hidden_size2 = 128\n",
        "hidden_size3 = 64   \n",
        "num_classes = 10\n",
        "num_epochs = 10\n",
        "batch_size = 100\n",
        "learning_rate = 0.001\n",
        "\n",
        "# MNIST dataset\n",
        "train_dataset = dsets.MNIST(root='./data',train=True,transform=transforms.ToTensor(),download=True)\n",
        "\n",
        "test_dataset = dsets.MNIST(root='./data',train=False,transform=transforms.ToTensor())\n",
        "\n",
        "# Data loader\n",
        "train_loader = torch.utils.data.DataLoader(dataset=train_dataset,batch_size=batch_size,shuffle=True)\n",
        "\n",
        "test_loader = torch.utils.data.DataLoader(dataset=test_dataset,batch_size=batch_size,shuffle=False)\n",
        "\n",
        "# Neural network\n",
        "class Net(nn.Module):\n",
        "    def __init__(self, input_size, hidden_size1, hidden_size2, hidden_size3, num_classes):\n",
        "        super(Net, self).__init__()\n",
        "        self.fc1 = nn.Linear(input_size, hidden_size1)\n",
        "        self.fc2 = nn.Linear(hidden_size1, hidden_size2)\n",
        "        self.fc3 = nn.Linear(hidden_size2, hidden_size3)   \n",
        "        self.fc4 = nn.Linear(hidden_size3, num_classes)\n",
        "\n",
        "    def forward(self, x):\n",
        "        x = x.view(-1, 28*28)\n",
        "        x = F.relu(self.fc1(x))\n",
        "        x = F.relu(self.fc2(x))\n",
        "        x = F.relu(self.fc3(x))  \n",
        "        x = self.fc4(x)\n",
        "        return x\n",
        "\n",
        "model = Net(input_size, hidden_size1, hidden_size2, hidden_size3, num_classes)\n"
      ],
      "metadata": {
        "id": "wQX0NOd-wiRq"
      },
      "execution_count": null,
      "outputs": []
    },
    {
      "cell_type": "code",
      "source": [
        "# FNN model\n",
        "class FNN(nn.Module):\n",
        "    def __init__(self, input_size, hidden_size1, hidden_size2, num_classes):\n",
        "        super(FNN, self).__init__()\n",
        "        self.fc1 = nn.Linear(input_size, hidden_size1)\n",
        "        self.relu1 = nn.ReLU()\n",
        "        self.fc2 = nn.Linear(hidden_size1, hidden_size2)\n",
        "        self.relu2 = nn.ReLU()\n",
        "        self.fc3 = nn.Linear(hidden_size2, num_classes)\n",
        "        self.softmax = nn.Softmax(dim=1)\n",
        "\n",
        "    def forward(self, x):\n",
        "        out = self.fc1(x)\n",
        "        out = self.relu1(out)\n",
        "        out = self.fc2(out)\n",
        "        out = self.relu2(out)\n",
        "        out = self.fc3(out)\n",
        "        out = self.softmax(out)\n",
        "        return out\n",
        "\n",
        "fnn = FNN(input_size, hidden_size1, hidden_size2, num_classes)\n",
        "\n",
        "# Loss and optimizer\n",
        "criterion = nn.CrossEntropyLoss()\n",
        "optimizer = torch.optim.Adam(fnn.parameters(), lr=learning_rate)\n",
        "\n"
      ],
      "metadata": {
        "id": "tEgjB4G-wlFm"
      },
      "execution_count": null,
      "outputs": []
    },
    {
      "cell_type": "code",
      "source": [
        "# Train the model\n",
        "total_step = len(train_loader)\n",
        "train_loss = []\n",
        "test_loss = []\n",
        "for epoch in range(num_epochs):\n",
        "    for i, (images, labels) in enumerate(train_loader):\n",
        "        # Reshape images to (batch_size, input_size)\n",
        "        images = images.reshape(-1, input_size)\n",
        "        labels = labels\n",
        "\n",
        "        # Forward pass\n",
        "        outputs = fnn(images)\n",
        "        loss = criterion(outputs, labels)\n",
        "\n",
        "        # Backward and optimize\n",
        "        optimizer.zero_grad()\n",
        "        loss.backward()\n",
        "        optimizer.step()\n",
        "\n",
        "        if (i+1) % 100 == 0:\n",
        "            print('Epoch [{}/{}], Step [{}/{}], Loss: {:.4f}'\n",
        "                  .format(epoch+1, num_epochs, i+1, total_step, loss.item()))\n",
        "\n",
        "            # Save training loss\n",
        "            train_loss.append(loss.item())\n",
        "    # Test the model\n",
        "    with torch.no_grad():\n",
        "        correct = 0\n",
        "        total = 0\n",
        "        test_losses = []\n",
        "        for images, labels in test_loader:\n",
        "            images = images.reshape(-1, input_size)\n",
        "            labels = labels\n",
        "            outputs = fnn(images)\n",
        "            test_loss = criterion(outputs, labels)\n",
        "            test_losses.append(test_loss.item())\n",
        "            _, predicted = torch.max(outputs.data, 1)\n",
        "            total += labels.size(0)\n",
        "            correct += (predicted == labels).sum().item()\n",
        "\n",
        "        print('Test Loss: {:.4f}, Test Accuracy: {:.2f} %'\n",
        "              .format(sum(test_losses) / len(test_losses), 100 * correct / total))\n",
        "      "
      ],
      "metadata": {
        "colab": {
          "base_uri": "https://localhost:8080/"
        },
        "id": "Z9EDtrY6wwm7",
        "outputId": "964fe6b1-5154-4d85-c0c0-eccc0d58326f"
      },
      "execution_count": null,
      "outputs": [
        {
          "output_type": "stream",
          "name": "stdout",
          "text": [
            "Epoch [1/10], Step [100/600], Loss: 1.6547\n",
            "Epoch [1/10], Step [200/600], Loss: 1.5619\n",
            "Epoch [1/10], Step [300/600], Loss: 1.5813\n",
            "Epoch [1/10], Step [400/600], Loss: 1.5466\n",
            "Epoch [1/10], Step [500/600], Loss: 1.5190\n",
            "Epoch [1/10], Step [600/600], Loss: 1.5266\n",
            "Test Loss: 1.5268, Test Accuracy: 93.68 %\n",
            "Epoch [2/10], Step [100/600], Loss: 1.5215\n",
            "Epoch [2/10], Step [200/600], Loss: 1.5026\n",
            "Epoch [2/10], Step [300/600], Loss: 1.5649\n",
            "Epoch [2/10], Step [400/600], Loss: 1.5215\n",
            "Epoch [2/10], Step [500/600], Loss: 1.4999\n",
            "Epoch [2/10], Step [600/600], Loss: 1.5276\n",
            "Test Loss: 1.5196, Test Accuracy: 94.44 %\n",
            "Epoch [3/10], Step [100/600], Loss: 1.5147\n",
            "Epoch [3/10], Step [200/600], Loss: 1.4992\n",
            "Epoch [3/10], Step [300/600], Loss: 1.5310\n",
            "Epoch [3/10], Step [400/600], Loss: 1.5000\n",
            "Epoch [3/10], Step [500/600], Loss: 1.5177\n",
            "Epoch [3/10], Step [600/600], Loss: 1.4834\n",
            "Test Loss: 1.5035, Test Accuracy: 95.98 %\n",
            "Epoch [4/10], Step [100/600], Loss: 1.4815\n",
            "Epoch [4/10], Step [200/600], Loss: 1.4829\n",
            "Epoch [4/10], Step [300/600], Loss: 1.4843\n",
            "Epoch [4/10], Step [400/600], Loss: 1.5049\n",
            "Epoch [4/10], Step [500/600], Loss: 1.4978\n",
            "Epoch [4/10], Step [600/600], Loss: 1.4965\n",
            "Test Loss: 1.4970, Test Accuracy: 96.52 %\n",
            "Epoch [5/10], Step [100/600], Loss: 1.4821\n",
            "Epoch [5/10], Step [200/600], Loss: 1.4779\n",
            "Epoch [5/10], Step [300/600], Loss: 1.4955\n",
            "Epoch [5/10], Step [400/600], Loss: 1.4952\n",
            "Epoch [5/10], Step [500/600], Loss: 1.4690\n",
            "Epoch [5/10], Step [600/600], Loss: 1.5323\n",
            "Test Loss: 1.4944, Test Accuracy: 96.74 %\n",
            "Epoch [6/10], Step [100/600], Loss: 1.4949\n",
            "Epoch [6/10], Step [200/600], Loss: 1.4976\n",
            "Epoch [6/10], Step [300/600], Loss: 1.4885\n",
            "Epoch [6/10], Step [400/600], Loss: 1.4714\n",
            "Epoch [6/10], Step [500/600], Loss: 1.5021\n",
            "Epoch [6/10], Step [600/600], Loss: 1.4638\n",
            "Test Loss: 1.4928, Test Accuracy: 96.90 %\n",
            "Epoch [7/10], Step [100/600], Loss: 1.5092\n",
            "Epoch [7/10], Step [200/600], Loss: 1.4772\n",
            "Epoch [7/10], Step [300/600], Loss: 1.4718\n",
            "Epoch [7/10], Step [400/600], Loss: 1.4713\n",
            "Epoch [7/10], Step [500/600], Loss: 1.4630\n",
            "Epoch [7/10], Step [600/600], Loss: 1.4800\n",
            "Test Loss: 1.4899, Test Accuracy: 97.19 %\n",
            "Epoch [8/10], Step [100/600], Loss: 1.4802\n",
            "Epoch [8/10], Step [200/600], Loss: 1.4985\n",
            "Epoch [8/10], Step [300/600], Loss: 1.4726\n",
            "Epoch [8/10], Step [400/600], Loss: 1.4788\n",
            "Epoch [8/10], Step [500/600], Loss: 1.4936\n",
            "Epoch [8/10], Step [600/600], Loss: 1.5024\n",
            "Test Loss: 1.4868, Test Accuracy: 97.48 %\n",
            "Epoch [9/10], Step [100/600], Loss: 1.4727\n",
            "Epoch [9/10], Step [200/600], Loss: 1.4794\n",
            "Epoch [9/10], Step [300/600], Loss: 1.4658\n",
            "Epoch [9/10], Step [400/600], Loss: 1.4877\n",
            "Epoch [9/10], Step [500/600], Loss: 1.5002\n",
            "Epoch [9/10], Step [600/600], Loss: 1.4734\n",
            "Test Loss: 1.4876, Test Accuracy: 97.36 %\n",
            "Epoch [10/10], Step [100/600], Loss: 1.4940\n",
            "Epoch [10/10], Step [200/600], Loss: 1.4833\n",
            "Epoch [10/10], Step [300/600], Loss: 1.4811\n",
            "Epoch [10/10], Step [400/600], Loss: 1.4883\n",
            "Epoch [10/10], Step [500/600], Loss: 1.4625\n",
            "Epoch [10/10], Step [600/600], Loss: 1.4701\n",
            "Test Loss: 1.4869, Test Accuracy: 97.52 %\n"
          ]
        }
      ]
    },
    {
      "cell_type": "code",
      "source": [
        "import numpy as np\n",
        "import matplotlib.pyplot as plt\n"
      ],
      "metadata": {
        "id": "d-oI8mxMwy9y"
      },
      "execution_count": null,
      "outputs": []
    },
    {
      "cell_type": "code",
      "source": [
        "import matplotlib.pyplot as plt\n",
        "\n",
        "# Plot loss curves\n",
        "plt.plot(np.arange(len(train_loss)),train_loss, label='Training Loss')\n",
        "plt.plot(np.arange(len(test_losses)),test_losses, label='Test Loss')\n",
        "plt.legend()\n",
        "plt.title('Feed Forward Neural Network')\n",
        "plt.xlabel('Iterations')\n",
        "plt.ylabel('Loss')\n",
        "plt.show()\n"
      ],
      "metadata": {
        "colab": {
          "base_uri": "https://localhost:8080/",
          "height": 295
        },
        "id": "GJG-smOOxkfO",
        "outputId": "29e2e933-8266-4664-f071-564475d4cbcb"
      },
      "execution_count": null,
      "outputs": [
        {
          "output_type": "display_data",
          "data": {
            "text/plain": [
              "<Figure size 432x288 with 1 Axes>"
            ],
            "image/png": "[encoded data removed]"
          },
          "metadata": {
            "needs_background": "light"
          }
        }
      ]
    },
    {
      "cell_type": "code",
      "source": [],
      "metadata": {
        "id": "ygL82Ue9yGDw"
      },
      "execution_count": null,
      "outputs": []
    }
  ]
}